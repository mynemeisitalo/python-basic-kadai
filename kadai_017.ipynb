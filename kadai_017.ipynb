{
  "nbformat": 4,
  "nbformat_minor": 0,
  "metadata": {
    "colab": {
      "provenance": [],
      "authorship_tag": "ABX9TyO24u2d22RqxfrY336e+sUX",
      "include_colab_link": true
    },
    "kernelspec": {
      "name": "python3",
      "display_name": "Python 3"
    },
    "language_info": {
      "name": "python"
    }
  },
  "cells": [
    {
      "cell_type": "markdown",
      "metadata": {
        "id": "view-in-github",
        "colab_type": "text"
      },
      "source": [
        "<a href=\"https://colab.research.google.com/github/mynemeisitalo/python-basic-kadai/blob/main/kadai_017.ipynb\" target=\"_parent\"><img src=\"https://colab.research.google.com/assets/colab-badge.svg\" alt=\"Open In Colab\"/></a>"
      ]
    },
    {
      "cell_type": "code",
      "source": [
        "class Human:\n",
        "   def __init__(self, name, age):\n",
        "        self.name = name\n",
        "        self.age = age\n",
        "\n",
        "   def check_adult(self):\n",
        "        if self.age >= 20:\n",
        "          print(\"adult\")\n",
        "        else:\n",
        "          print(\"child\")\n",
        "\n",
        "person1 = Human(\"italo\", 28)\n",
        "person2 = Human(\"itale\", 18)\n",
        "person3 = Human(\"itala\", 20)\n",
        "\n",
        "users = [person1, person2, person3]\n",
        "\n",
        "for user in users:\n",
        "    user.check_adult()\n",
        "\n"
      ],
      "metadata": {
        "colab": {
          "base_uri": "https://localhost:8080/"
        },
        "id": "cEGA2lHvjmIG",
        "outputId": "ea20dee2-2a6f-4537-df08-0655d1f500df"
      },
      "execution_count": 5,
      "outputs": [
        {
          "output_type": "stream",
          "name": "stdout",
          "text": [
            "adult\n",
            "child\n",
            "adult\n"
          ]
        }
      ]
    }
  ]
}